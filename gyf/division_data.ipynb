{
 "cells": [
  {
   "cell_type": "code",
   "execution_count": null,
   "metadata": {},
   "outputs": [],
   "source": [
    "\"\"\"本模块用于划分训练集和验证集,大概比例7:3\"\"\"\n",
    "\n",
    "import shutil\n",
    "import os\n",
    "import random\n",
    "import glob\n",
    "\n",
    "def move_file(raw_path, imgs,  new_path):\n",
    "    '''这个函数是用来移动图片和相应的json文件'''\n",
    "    print(raw_path)\n",
    "    print(new_path)\n",
    "    # filelist = os.listdir(old_path) #列出该目录下的所有文件,listdir返回的文件列表是不包含路径的,只是将当面目录下的所有文件的文件名以字符串的形式存入list中\n",
    "    filelist = imgs\n",
    "    print(filelist)\n",
    "    for file in filelist:\n",
    "        src = os.path.join(raw_path, file[len(\"/home/gyf/data/sockets/raw_sockets/\"):])\n",
    "        dst = os.path.join(new_path, file[len(\"/home/gyf/data/sockets/raw_sockets/\"):])\n",
    "        src_jpg = os.path.join(raw_path, file[len(\"/home/gyf/data/sockets/raw_sockets/\"):-5] + '.jpg')\n",
    "        dst_jpg = os.path.join(new_path, file[len(\"/home/gyf/data/sockets/raw_sockets/\"):-5] + '.jpg')\n",
    "        print('src:', src)\n",
    "        print('dst:', dst)\n",
    "        shutil.move(src, dst)\n",
    "        shutil.move(src_jpg, dst_jpg)\n",
    "\n",
    "\n",
    "raw_path = \"/home/gyf/data/sockets/raw_sockets\"\n",
    "\n",
    "new_train = \"/home/gyf/data/sockets/train\"\n",
    "new_val = \"/home/gyf/data/sockets/val\"\n",
    "\n",
    "pics = glob.glob(\"/home/gyf/data/sockets/raw_sockets/*.json\") \n",
    "# glob和os.listdir的区别在于glob遍历指定路径下文件的时候遍历完的pics的每个文件对应字符串名字是包含路径的\n",
    "\n",
    "\n",
    "\n",
    "print(\"divising....\")\n",
    "move_file(raw_path, pics[:133], new_train)\n",
    "print(\"divising train end!\")\n",
    "\n",
    "print(\"divising...\")\n",
    "move_file(raw_path, pics[133:], new_val)\n",
    "print(\"divising validation end!\")"
   ]
  }
 ],
 "metadata": {
  "interpreter": {
   "hash": "9203af80a0a50df5ce9b64172e6ab35b998560bc5599c448fcf3d589ecb35589"
  },
  "kernelspec": {
   "display_name": "Python 3.9.7 64-bit ('mmlab': conda)",
   "language": "python",
   "name": "python3"
  },
  "language_info": {
   "codemirror_mode": {
    "name": "ipython",
    "version": 3
   },
   "file_extension": ".py",
   "mimetype": "text/x-python",
   "name": "python",
   "nbconvert_exporter": "python",
   "pygments_lexer": "ipython3",
   "version": "3.9.7"
  },
  "orig_nbformat": 4
 },
 "nbformat": 4,
 "nbformat_minor": 2
}
